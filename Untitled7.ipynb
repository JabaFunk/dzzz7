{
  "metadata": {
    "language_info": {
      "codemirror_mode": {
        "name": "python",
        "version": 3
      },
      "file_extension": ".py",
      "mimetype": "text/x-python",
      "name": "python",
      "nbconvert_exporter": "python",
      "pygments_lexer": "ipython3",
      "version": "3.8"
    },
    "kernelspec": {
      "name": "python",
      "display_name": "Python (Pyodide)",
      "language": "python"
    }
  },
  "nbformat_minor": 4,
  "nbformat": 4,
  "cells": [
    {
      "cell_type": "code",
      "source": "import scipy.stats as stats\nimport numpy as np",
      "metadata": {
        "trusted": true
      },
      "execution_count": 10,
      "outputs": []
    },
    {
      "cell_type": "markdown",
      "source": "1 ) Даны две независимые выборки. Не соблюдается условие нормальности\nx1 380,420, 290\ny1 140,360,200,900\nСделайте вывод по результатам, полученным с помощью функции",
      "metadata": {}
    },
    {
      "cell_type": "code",
      "source": "x1 = np.array([380, 420, 290])\ny1 = np.array([140, 360, 200, 900])\nprint(stats.mannwhitneyu(x1, y1))",
      "metadata": {
        "trusted": true
      },
      "execution_count": 11,
      "outputs": [
        {
          "name": "stdout",
          "text": "MannwhitneyuResult(statistic=8.0, pvalue=0.6285714285714286)\n",
          "output_type": "stream"
        }
      ]
    },
    {
      "cell_type": "markdown",
      "source": "значения между выборками не являются статистически значимыми",
      "metadata": {}
    },
    {
      "cell_type": "markdown",
      "source": "2 ) Исследовалось влияние препарата на уровень давления пациентов. Сначала измерялось давление до приема препарата, потом через 10 минут и через 30 минут. Есть ли статистически значимые различия?\n1е измерение до приема препарата: 150, 160, 165, 145, 155\n2е измерение через 10 минут: 140, 155, 150, 130, 135\n3е измерение через 30 минут: 130, 130, 120, 130, 125",
      "metadata": {}
    },
    {
      "cell_type": "code",
      "source": " a = np.array([150, 160, 165, 145, 155])\n b = np.array([140, 155, 150, 130, 135])\n c = np.array([130, 130, 120, 130, 125])\n print(stats.friedmanchisquare(a, b, c))",
      "metadata": {
        "trusted": true
      },
      "execution_count": 12,
      "outputs": [
        {
          "name": "stdout",
          "text": "FriedmanchisquareResult(statistic=9.578947368421062, pvalue=0.00831683351100441)\n",
          "output_type": "stream"
        }
      ]
    },
    {
      "cell_type": "markdown",
      "source": "значения между выборками являются статистически значимыми, значит препарат влияет на уровень давления пациентов",
      "metadata": {}
    },
    {
      "cell_type": "markdown",
      "source": "3 ) Сравните 1 и 2 е измерения, предполагая, что 3го измерения через 30 минут не было.",
      "metadata": {}
    },
    {
      "cell_type": "code",
      "source": " a = np.array([150, 160, 165, 145, 155])\n b = np.array([140, 155, 150, 130, 135])\n print(stats.wilcoxon(a, b))",
      "metadata": {
        "trusted": true
      },
      "execution_count": 14,
      "outputs": [
        {
          "name": "stdout",
          "text": "WilcoxonResult(statistic=0.0, pvalue=0.0625)\n",
          "output_type": "stream"
        }
      ]
    },
    {
      "cell_type": "markdown",
      "source": "значения между выборками не являются статистически значимыми, значит препарат не влияет на уровень давления ",
      "metadata": {}
    },
    {
      "cell_type": "markdown",
      "source": "4) Даны 3 группы учеников плавания.\nВ 1 группе время на дистанцию 50 м составляют:\n56, 60, 62, 55, 71, 67, 59, 58, 64, 67\nВторая группа : 57, 58, 69, 48, 72, 70, 68, 71, 50, 53\nТретья группа: 57, 67, 49, 48, 47, 55, 66, 51, 54\nЕсть ли различия между группами?",
      "metadata": {}
    },
    {
      "cell_type": "code",
      "source": " a = np.array([56, 60, 62, 55, 71, 67, 59, 58, 64, 67])\n b = np.array([57, 58, 69, 48, 72, 70, 68, 71, 50, 53])\n c = np.array([57, 67, 49, 48, 47, 55, 66, 51, 54])\n print(stats.kruskal(a, b, c))",
      "metadata": {
        "trusted": true
      },
      "execution_count": 15,
      "outputs": [
        {
          "name": "stdout",
          "text": "KruskalResult(statistic=5.465564058257224, pvalue=0.0650380998590494)\n",
          "output_type": "stream"
        }
      ]
    },
    {
      "cell_type": "markdown",
      "source": "значения между выборками не являются статистически значимыми",
      "metadata": {}
    },
    {
      "cell_type": "markdown",
      "source": "5) Заявляется, что партия изготавливается со средним арифметическим 2,5 см. Проверить данную гипотезу, если известно, что размеры изделий подчинены нормальному закону распределения. Объем выборки 10, уровень статистической значимости 5%\n2.51, 2.35, 2.74, 2.56, 2.40, 2.36, 2.65, 2.7, 2.67, 2.34",
      "metadata": {}
    },
    {
      "cell_type": "code",
      "source": "x =np.array([2.51, 2.35, 2.74, 2.56, 2.40, 2.36, 2.65, 2.7, 2.67, 2.34])\nprint(x)\nx_1 = np.mean(x)\nprint(x_1)\nm = 2.5\nn = 10\nse = np.std(x, ddof=1)\nt_r = (x_1 - m)/(se/np.sqrt(n))\nprint(t_r)\nt_t = stats.t.ppf(0.95, n-1)\nprint(t_t)",
      "metadata": {
        "trusted": true
      },
      "execution_count": 16,
      "outputs": [
        {
          "name": "stdout",
          "text": "[2.51 2.35 2.74 2.56 2.4  2.36 2.65 2.7  2.67 2.34]\n2.5279999999999996\n0.5630613661802959\n1.8331129326536335\n",
          "output_type": "stream"
        }
      ]
    },
    {
      "cell_type": "markdown",
      "source": "Статистически значимые различия не выявлены => действительно, у этой партии ср.арифмитическое 2,5",
      "metadata": {}
    },
    {
      "cell_type": "code",
      "source": "",
      "metadata": {},
      "execution_count": null,
      "outputs": []
    }
  ]
}